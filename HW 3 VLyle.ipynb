{
 "cells": [
  {
   "cell_type": "code",
   "execution_count": 1,
   "metadata": {},
   "outputs": [
    {
     "name": "stdout",
     "output_type": "stream",
     "text": [
      "1530654.1590033714\n"
     ]
    }
   ],
   "source": [
    "def altitude (T):\n",
    "    \"\"\"determine the altitude in km of a satellite based on period of orbit in minutes\"\"\"\n",
    "    G = 6.67*10**(-11)\n",
    "    M = 5.97*10**24\n",
    "    R = 6371\n",
    "    pi = 3.14159265358979\n",
    "    constant = ((G*M*(60**2)/(4*(pi**2))))      #value 60^2 from converting units of time from minutes to seconds\n",
    "    altitude = (constant*(T**2))**(1/3) - R\n",
    "    return altitude\n",
    "\n",
    "c=altitude(10)  \n",
    "print(c)"
   ]
  },
  {
   "cell_type": "code",
   "execution_count": 14,
   "metadata": {},
   "outputs": [
    {
     "name": "stdout",
     "output_type": "stream",
     "text": [
      "[ 0  1  2  3  4  5  6  7  8  9 10]\n",
      "0 1.0 1.0\n",
      "10 -1056.7510164765213 4.5399929762484854e-05\n",
      "20 -192667.14269339206 2.061153622438558e-09\n",
      "30 738219.3571055843 9.357622968840175e-14\n",
      "40 -1172614.9729100529 4.248354255291589e-18\n",
      "50 -4447163.6323095 1.9287498479639178e-22\n",
      "60 -6649010.296760228 8.75651076269652e-27\n",
      "70 -11090626.416535772 3.975449735908647e-31\n",
      "80 10478680.009523809 1.8048513878454153e-35\n",
      "90 -12605034.41855839 8.194012623990515e-40\n",
      "100 -8759659.53363931 3.720075976020836e-44\n"
     ]
    }
   ],
   "source": [
    "import numpy as np\n",
    "\n",
    "#Simple e**-x\n",
    "\n",
    "list_1 = [0, 1, 2, 3, 4, 5, 6, 7, 8, 9, 10]\n",
    "numbers = np.array(list_1)\n",
    "print(numbers)\n",
    "\n",
    "for x in numbers:\n",
    "    expx=0.0\n",
    "    #print(numbers[x])\n",
    "    for n in range(0, 1001):\n",
    "        expx += (((-1)**n)*(((numbers[x]*10)**n)/(np.math.factorial(n))))\n",
    "    print(x*10,expx,np.exp(-x*10))"
   ]
  },
  {
   "cell_type": "code",
   "execution_count": 1,
   "metadata": {},
   "outputs": [
    {
     "name": "stdout",
     "output_type": "stream",
     "text": [
      "[ 0  1  2  3  4  5  6  7  8  9 10]\n",
      "0 1.0 1.0\n",
      "10 -0.0009462967003658594 4.5399929762484854e-05\n",
      "20 -5.190298594874512e-06 2.061153622438558e-09\n",
      "30 1.3546109166262004e-06 9.357622968840175e-14\n",
      "40 -8.527948415312504e-07 4.248354255291589e-18\n",
      "50 -2.248624252849181e-07 1.9287498479639178e-22\n",
      "60 -1.5039832326432947e-07 8.75651076269652e-27\n",
      "70 -9.016623249603211e-08 3.975449735908647e-31\n",
      "80 9.543186728587237e-08 1.8048513878454153e-35\n",
      "90 -7.933338115504866e-08 8.194012623990515e-40\n",
      "100 -1.141596880746046e-07 3.720075976020836e-44\n"
     ]
    }
   ],
   "source": [
    "import numpy as np\n",
    "\n",
    "#Inverse e**-x\n",
    "\n",
    "list_1 = [0, 1, 2, 3, 4, 5, 6, 7, 8, 9, 10]                     #defined the array to work with\n",
    "numbers = np.array(list_1)\n",
    "print(numbers)                                                  #checked my array\n",
    "\n",
    "for x in numbers:\n",
    "    expi=0.0\n",
    "    #print(numbers[x])\n",
    "    for n in range(0,1001):\n",
    "        expi += ((-numbers[x]*10)**n/(np.math.factorial(n)))    #after setting x and n, define funcion\n",
    "    print(x*10,1/expi, np.exp(-x*10))                           #print 3 columns, x value, inverse of s_n, and actual\n",
    "    \n",
    "    \n",
    "    #obviously much closer than simple, though for some strange reason everything is negative"
   ]
  },
  {
   "cell_type": "code",
   "execution_count": 2,
   "metadata": {},
   "outputs": [
    {
     "name": "stdout",
     "output_type": "stream",
     "text": [
      "[ 0  1  2  3  4  5  6  7  8  9 10]\n",
      "0 1.0 1.0\n",
      "10 4.539992967040021e-05 4.5399929762484854e-05\n",
      "20 6.147561828914626e-09 2.061153622438558e-09\n",
      "30 6.1030424788918156e-06 9.357622968840175e-14\n",
      "40 0.3116951588217358 4.248354255291589e-18\n",
      "50 2041.8329628976246 1.9287498479639178e-22\n",
      "60 722745700.9303185 8.75651076269652e-27\n",
      "70 4594081207253.4 3.975449735908647e-31\n",
      "80 2.4508201170456323e+17 1.8048513878454153e-35\n",
      "90 -5.865799310261735e+21 8.194012623990515e-40\n",
      "100 8.144652745098073e+25 3.720075976020836e-44\n"
     ]
    }
   ],
   "source": [
    "import numpy as np\n",
    "\n",
    "#Recursive e**-x\n",
    "\n",
    "def s_n(y,z):                                     #set to define the recursive formula\n",
    "    \"\"\"to define a recursive s_n according to the summation of e**-x\"\"\"\n",
    "    if y==0:                                      #needed a starting point so it wouldn't recurse negatively\n",
    "        return 1\n",
    "    else:\n",
    "        return (-s_n(y-1,z)*(z/y))                #actual desired function\n",
    "\n",
    "list_1 = [0, 1, 2, 3, 4, 5, 6, 7, 8, 9, 10]       #defined the array to work with\n",
    "numbers = np.array(list_1)\n",
    "print(numbers)                                    #array check\n",
    "\n",
    "for x in numbers:\n",
    "    expr=0.0\n",
    "    for n in range(0,1001):\n",
    "        expr += s_n(n,numbers[x]*10)              #summation for various values of x for previously defined function\n",
    "    print(x*10, expr, np.exp(-x*10))              #print 3 columns, x value, simple version, and actual\n",
    "    \n",
    "    \n",
    "    #knowing that this is supposed to be the second most accurate method there is something strange going on here"
   ]
  },
  {
   "cell_type": "code",
   "execution_count": null,
   "metadata": {},
   "outputs": [],
   "source": []
  }
 ],
 "metadata": {
  "kernelspec": {
   "display_name": "Python 3",
   "language": "python",
   "name": "python3"
  },
  "language_info": {
   "codemirror_mode": {
    "name": "ipython",
    "version": 3
   },
   "file_extension": ".py",
   "mimetype": "text/x-python",
   "name": "python",
   "nbconvert_exporter": "python",
   "pygments_lexer": "ipython3",
   "version": "3.7.1"
  }
 },
 "nbformat": 4,
 "nbformat_minor": 2
}
