{
 "cells": [
  {
   "cell_type": "code",
   "execution_count": 1,
   "metadata": {},
   "outputs": [
    {
     "data": {
      "text/plain": [
       "(-7.275957614183426e-09,\n",
       " -100000000.0,\n",
       " -1e-08,\n",
       " -137438953.472,\n",
       " -8.637978807091713e-09,\n",
       " -118719476.736)"
      ]
     },
     "execution_count": 1,
     "metadata": {},
     "output_type": "execute_result"
    }
   ],
   "source": [
    "#Problem 1: The Quadratic Equation\n",
    "\n",
    "def quadratic_test(a,b,c):\n",
    "    \"\"\"writing in simple for the quadratic equation\"\"\"\n",
    "    determinant = ((b**2)-(4*a*c))**(1/2)\n",
    "    x_1 = (-b + determinant)/(2*a)                          # a) det 1\n",
    "    x_2 = (-b - determinant)/(2*a)                          # a) det 2\n",
    "    \n",
    "    x_3 = (2*c)/(-b - determinant)                          # b) det 1\n",
    "    x_4 = (2*c)/(-b + determinant)                          # b) det 2\n",
    "    \n",
    "    x_5= (x_1 + x_3)/2                                      # c) det 1\n",
    "    x_6= (x_2 + x_4)/2                                      # c) det 2\n",
    "    return (x_1, x_2, x_3, x_4, x_5, x_6)\n",
    "\n",
    "quadratic_test(.001, 100000, .001)"
   ]
  },
  {
   "cell_type": "markdown",
   "metadata": {},
   "source": [
    "per my calculator, + is -1E-6, - is 1E6. Both of my values are remarkably close, at the right magnitude, although method a) resulted in slightly smaller numbers, and method b) resulted in slightly larger numbers\n"
   ]
  },
  {
   "cell_type": "code",
   "execution_count": 2,
   "metadata": {},
   "outputs": [
    {
     "data": {
      "text/plain": [
       "((-2+1j), (-2-1j), (-2+1j), (-2-1j), (-2+1j), (-2-1j))"
      ]
     },
     "execution_count": 2,
     "metadata": {},
     "output_type": "execute_result"
    }
   ],
   "source": [
    "quadratic_test(1, 4, 5)"
   ]
  },
  {
   "cell_type": "markdown",
   "metadata": {},
   "source": [
    "Notice that with small values, both methods agree with each other-- thus the error is the result of the size of b and a/c relative to each other."
   ]
  },
  {
   "cell_type": "code",
   "execution_count": 3,
   "metadata": {},
   "outputs": [
    {
     "data": {
      "text/plain": [
       "(-7.275957614183426e-09,\n",
       " -100000000.0,\n",
       " -1e-08,\n",
       " -137438953.472,\n",
       " -8.637978807091713e-09,\n",
       " -118719476.736)"
      ]
     },
     "execution_count": 3,
     "metadata": {},
     "output_type": "execute_result"
    }
   ],
   "source": [
    "quadratic_test(.001, 100000, .001)"
   ]
  },
  {
   "cell_type": "markdown",
   "metadata": {},
   "source": [
    "notice that the less significant a and c, the greater the rounding error contributed by the -b+determinant this is due to the fact that when a and c are negligible, the determinant is very close in value to the value of b. Therefore,the equation versions which add these two values rather than subtracts them does not have subtraction based rounding error"
   ]
  },
  {
   "cell_type": "code",
   "execution_count": 5,
   "metadata": {},
   "outputs": [
    {
     "data": {
      "text/plain": [
       "((-2.999999993876766e-08+0.9999999999999996j),\n",
       " (-3.000000006123234e-08-0.9999999999999996j),\n",
       " (-3.000000006123234e-08+0.9999999999999996j),\n",
       " (-2.999999993876766e-08-0.9999999999999996j),\n",
       " (-3.0000000000000004e-08+0.9999999999999996j),\n",
       " (-3.0000000000000004e-08-0.9999999999999996j))"
      ]
     },
     "execution_count": 5,
     "metadata": {},
     "output_type": "execute_result"
    }
   ],
   "source": [
    "quadratic_test(50000,.003,50000)"
   ]
  },
  {
   "cell_type": "markdown",
   "metadata": {},
   "source": [
    "notice that when a and c are very large compared to b, the rounding error decreases (in example above, the error is -1.22466E-7% vs 1.22464E-7%, a much smaller difference than if a and c are negligible but a difference nonetheless)"
   ]
  },
  {
   "cell_type": "code",
   "execution_count": 6,
   "metadata": {},
   "outputs": [
    {
     "data": {
      "text/plain": [
       "(-1.000000000001e-06, -999999.999999)"
      ]
     },
     "execution_count": 6,
     "metadata": {},
     "output_type": "execute_result"
    }
   ],
   "source": [
    "#final version of the quadratic based on rounding error:\n",
    "\n",
    "def quadratic(a,b,c):\n",
    "    \"\"\"quadratic equation with minimized rounding error\"\"\"\n",
    "    determinant = ((b**2)-(4*a*c))**(1/2)\n",
    "    x_1 = (2*c)/(-b - determinant)                          # b) det 1\n",
    "    x_2 = (-b - determinant)/(2*a)                          # a) det 2\n",
    "    return(x_1, x_2)\n",
    "\n",
    "quadratic(.001,1000,.001)"
   ]
  },
  {
   "cell_type": "code",
   "execution_count": 7,
   "metadata": {},
   "outputs": [
    {
     "data": {
      "text/plain": [
       "(908.86,\n",
       " 258.16890921068523,\n",
       " 151.90357497536667,\n",
       " 6.427586206896552,\n",
       " 1.5756771943166705,\n",
       " 490.78425241273493,\n",
       " 8.46179745539198)"
      ]
     },
     "execution_count": 7,
     "metadata": {},
     "output_type": "execute_result"
    }
   ],
   "source": [
    "# Problem 2: The Empirical Mass Formula\n",
    "\n",
    "def binding_energy_test(Z,A): #with Z = atomic number, A = mass number, both must be integers\n",
    "    \"\"\"checking the accuracy of the function binding_energy by printing individual terms\"\"\"\n",
    "    a_1 = 15.67\n",
    "    a_2 = 17.23\n",
    "    a_3 = 0.75\n",
    "    a_4 = 93.2\n",
    "    if A % 2 == 0 and Z % 2 == 0:\n",
    "        a_5 = 12.0\n",
    "    elif A % 2 == 0 and Z % 2 == 1:\n",
    "        a_5 = -12.0\n",
    "    else:\n",
    "        a_5 = 0\n",
    "    \n",
    "    term_1 = (a_1*A)\n",
    "    term_2 = (a_2*(A**(2/3)))\n",
    "    term_3 = (a_3*((Z**2)/(A**(1/3))))\n",
    "    term_4 = (a_4*(((A-2*Z)**2)/A))\n",
    "    term_5 = (a_5/(A**(1/2)))\n",
    "    \n",
    "    bind_e_atom = term_1 - term_2 - term_3 - term_4 - term_5\n",
    "    bind_e_per_nucleon = bind_e_atom/A\n",
    "    \n",
    "    return(term_1, term_2, term_3, term_4, term_5, bind_e_atom, bind_e_per_nucleon)\n",
    "\n",
    "binding_energy_test(28, 58) #both are even, therefore term_5 should be nonzero and positive"
   ]
  },
  {
   "cell_type": "code",
   "execution_count": 8,
   "metadata": {},
   "outputs": [
    {
     "data": {
      "text/plain": [
       "(924.53,\n",
       " 261.1279054496554,\n",
       " 151.04046785208826,\n",
       " 14.216949152542375,\n",
       " 0.0,\n",
       " 498.144677545714,\n",
       " 8.443130127893458)"
      ]
     },
     "execution_count": 8,
     "metadata": {},
     "output_type": "execute_result"
    }
   ],
   "source": [
    "binding_energy_test(28,59) #A is odd, therefore term_5 should be zero"
   ]
  },
  {
   "cell_type": "code",
   "execution_count": 9,
   "metadata": {},
   "outputs": [
    {
     "data": {
      "text/plain": [
       "(908.86,\n",
       " 258.16890921068523,\n",
       " 141.24707417990092,\n",
       " 25.71034482758621,\n",
       " -1.5756771943166705,\n",
       " 485.30934897614435,\n",
       " 8.367402568554214)"
      ]
     },
     "execution_count": 9,
     "metadata": {},
     "output_type": "execute_result"
    }
   ],
   "source": [
    "binding_energy_test(27,58) #A is even and Z is odd, therefore term_5 should be nonzero and negative"
   ]
  },
  {
   "cell_type": "code",
   "execution_count": 10,
   "metadata": {},
   "outputs": [],
   "source": [
    "#Final: \n",
    "\n",
    "def binding_energy(Z,A):\n",
    "    \"\"\"complete binding energy eqn which returns the binding energy of the atom and per nucleon respectively, result in MeV\"\"\"\n",
    "    a_1 = 15.67\n",
    "    a_2 = 17.23\n",
    "    a_3 = 0.75\n",
    "    a_4 = 93.2\n",
    "    if A % 2 == 0 and Z % 2 == 0:\n",
    "        a_5 = 12.0\n",
    "    elif A % 2 == 0 and Z % 2 == 1:\n",
    "        a_5 = -12.0\n",
    "    else:\n",
    "        a_5 = 0\n",
    "    \n",
    "    bind_e_atom = (a_1*A) - (a_2*(A**(2/3))) - (a_3*((Z**2)/(A**(1/3)))) - (a_4*(((A-2*Z)**2)/A)) - (a_5/(A**(1/2)))\n",
    "    bind_e_per_nucleon = bind_e_atom/A\n",
    "    \n",
    "    return(bind_e_atom, bind_e_per_nucleon)    "
   ]
  },
  {
   "cell_type": "code",
   "execution_count": 11,
   "metadata": {},
   "outputs": [
    {
     "data": {
      "text/plain": [
       "(490.78425241273493, 8.46179745539198)"
      ]
     },
     "execution_count": 11,
     "metadata": {},
     "output_type": "execute_result"
    }
   ],
   "source": [
    "binding_energy(28, 58)"
   ]
  },
  {
   "cell_type": "code",
   "execution_count": 12,
   "metadata": {},
   "outputs": [
    {
     "data": {
      "text/plain": [
       "(498.144677545714, 8.443130127893458)"
      ]
     },
     "execution_count": 12,
     "metadata": {},
     "output_type": "execute_result"
    }
   ],
   "source": [
    "binding_energy(28, 59)"
   ]
  },
  {
   "cell_type": "code",
   "execution_count": 13,
   "metadata": {},
   "outputs": [
    {
     "data": {
      "text/plain": [
       "(485.30934897614435, 8.367402568554214)"
      ]
     },
     "execution_count": 13,
     "metadata": {},
     "output_type": "execute_result"
    }
   ],
   "source": [
    "binding_energy(27, 58)"
   ]
  },
  {
   "cell_type": "code",
   "execution_count": null,
   "metadata": {},
   "outputs": [],
   "source": []
  }
 ],
 "metadata": {
  "kernelspec": {
   "display_name": "Python 3",
   "language": "python",
   "name": "python3"
  },
  "language_info": {
   "codemirror_mode": {
    "name": "ipython",
    "version": 3
   },
   "file_extension": ".py",
   "mimetype": "text/x-python",
   "name": "python",
   "nbconvert_exporter": "python",
   "pygments_lexer": "ipython3",
   "version": "3.7.1"
  }
 },
 "nbformat": 4,
 "nbformat_minor": 2
}
