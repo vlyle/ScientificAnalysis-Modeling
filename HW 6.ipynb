{
 "cells": [
  {
   "cell_type": "code",
   "execution_count": null,
   "metadata": {},
   "outputs": [],
   "source": [
    "#1) \"FizzBuzz\"\n",
    "\n",
    "numbers = list(range(1,101,1))\n",
    "print(numbers)"
   ]
  },
  {
   "cell_type": "code",
   "execution_count": null,
   "metadata": {},
   "outputs": [],
   "source": [
    "numbers = list(range(1,101,1))\n",
    "for n in numbers:\n",
    "    if n % 3 == 0 and n % 5 == 0:\n",
    "        print(\"FizzBuzz\")\n",
    "    elif n % 3 == 0 and (n % 5 == 1 or 2 or 3 or 4):\n",
    "        print(\"Fizz\")\n",
    "    elif (n % 3 == 1 or 2) and n % 5 == 0: \n",
    "        print(\"Buzz\")\n",
    "    else:\n",
    "        print(n)"
   ]
  },
  {
   "cell_type": "code",
   "execution_count": null,
   "metadata": {},
   "outputs": [],
   "source": [
    "#2) Heat Capacity of a Solid"
   ]
  },
  {
   "cell_type": "code",
   "execution_count": 3,
   "metadata": {},
   "outputs": [
    {
     "data": {
      "text/plain": [
       "0.9206735942077924"
      ]
     },
     "execution_count": 3,
     "metadata": {},
     "output_type": "execute_result"
    }
   ],
   "source": [
    "def integfcn(x):\n",
    "    e = 2.71828182845904523536028747135266\n",
    "    return ((x**4)*e**x)/(((e**x)-1)**2)\n",
    "\n",
    "integfcn(1)"
   ]
  },
  {
   "cell_type": "markdown",
   "metadata": {},
   "source": [
    "According to my calculator, the above is the correct value of the fcn for x = 1"
   ]
  },
  {
   "cell_type": "code",
   "execution_count": 17,
   "metadata": {},
   "outputs": [
    {
     "name": "stdout",
     "output_type": "stream",
     "text": [
      "0.8761654419982391\n"
     ]
    }
   ],
   "source": [
    "T = 300\n",
    "Dt = 428\n",
    "N = 1000\n",
    "a = .000000000000001\n",
    "b = Dt/T\n",
    "h = (b-a)/N\n",
    "\n",
    "s = 0.5*integfcn(a) + 0.5*integfcn(b)\n",
    "for k in range(1,N):\n",
    "    s += integfcn(a + k*h)\n",
    "\n",
    "print(h*s)\n"
   ]
  },
  {
   "cell_type": "code",
   "execution_count": 41,
   "metadata": {},
   "outputs": [
    {
     "data": {
      "text/plain": [
       "2257.797402268122"
      ]
     },
     "execution_count": 41,
     "metadata": {},
     "output_type": "execute_result"
    }
   ],
   "source": [
    "def integfcn(x):\n",
    "    e = 2.71828182845904523536028747135266\n",
    "    return ((x**4)*e**x)/(((e**x)-1)**2)\n",
    "\n",
    "\n",
    "\n",
    "def C_V_test(T):\n",
    "    V = 1000/(100**3)\n",
    "    p = 6.022*(10**(28))\n",
    "    Dt = 428\n",
    "    K_b = 1.38064852*(10**(-23))\n",
    "    N = 1000\n",
    "    a = 0\n",
    "    b = Dt/T\n",
    "    h = (b-a)/N\n",
    "\n",
    "    s = 0.5*0 + 0.5*integfcn(b)   #integfcn(a) = 0\n",
    "    for k in range(1,N):\n",
    "        s += integfcn(a + k*h)\n",
    "\n",
    "    return(9*V*p*K_b*((T/Dt)**3)*(h*s))\n",
    "\n",
    "C_V_test(300)"
   ]
  },
  {
   "cell_type": "code",
   "execution_count": 42,
   "metadata": {},
   "outputs": [
    {
     "data": {
      "text/plain": [
       "Text(0, 0.5, 'Heat Capacity ( J/K )')"
      ]
     },
     "execution_count": 42,
     "metadata": {},
     "output_type": "execute_result"
    },
    {
     "data": {
      "image/png": "[encoded data removed]",
      "text/plain": [
       "<Figure size 432x288 with 1 Axes>"
      ]
     },
     "metadata": {
      "needs_background": "light"
     },
     "output_type": "display_data"
    }
   ],
   "source": [
    "import matplotlib.pyplot as plt\n",
    "import numpy as np\n",
    "\n",
    "list_1 = list((range(5,501,1)))\n",
    "T = np.array(list_1)\n",
    "C_V = C_V_test(T)\n",
    "\n",
    "fig = plt.figure()\n",
    "ax = fig.add_subplot(111)\n",
    "ax.plot(T, C_V)\n",
    "\n",
    "ax.set_xlabel(\"Temperature (K)\")\n",
    "ax.set_ylabel(\"Heat Capacity ( J/K )\")\n",
    "\n",
    "#plt.plot"
   ]
  },
  {
   "cell_type": "code",
   "execution_count": null,
   "metadata": {},
   "outputs": [],
   "source": []
  }
 ],
 "metadata": {
  "kernelspec": {
   "display_name": "Python 3",
   "language": "python",
   "name": "python3"
  },
  "language_info": {
   "codemirror_mode": {
    "name": "ipython",
    "version": 3
   },
   "file_extension": ".py",
   "mimetype": "text/x-python",
   "name": "python",
   "nbconvert_exporter": "python",
   "pygments_lexer": "ipython3",
   "version": "3.7.1"
  }
 },
 "nbformat": 4,
 "nbformat_minor": 2
}
